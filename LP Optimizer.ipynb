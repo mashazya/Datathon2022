{
 "cells": [
  {
   "cell_type": "code",
   "execution_count": 2,
   "metadata": {},
   "outputs": [],
   "source": [
    "import pulp\n",
    "import pandas as pd\n",
    "import numpy as np\n",
    "from scipy.spatial import distance_matrix\n",
    "import random\n",
    "import gurobipy as grb\n",
    "\n",
    "from numpy.core.fromnumeric import transpose\n",
    "from scipy.spatial.distance import minkowski\n",
    "from custom_parser import parse_file\n",
    "%load_ext autoreload\n",
    "%autoreload 2"
   ]
  },
  {
   "cell_type": "code",
   "execution_count": 47,
   "metadata": {},
   "outputs": [],
   "source": [
    "df = parse_file('testcase0.def')"
   ]
  },
  {
   "cell_type": "code",
   "execution_count": 13,
   "metadata": {},
   "outputs": [],
   "source": [
    "# df = pd.read_csv('https://raw.githubusercontent.com/mashazya/Datathon2022/main/data/parsed_example_input.csv', sep=',')"
   ]
  },
  {
   "cell_type": "code",
   "execution_count": 48,
   "metadata": {},
   "outputs": [],
   "source": [
    "driver_centr_x = int((df[df.driver_type != 0].x).mean())\n",
    "driver_centr_y = int((df[df.driver_type != 0].y).mean())"
   ]
  },
  {
   "cell_type": "code",
   "execution_count": 49,
   "metadata": {},
   "outputs": [],
   "source": [
    "drivers = df[df['driver_type'] != 0]\n",
    "df = df.drop([i for i in range(32)])"
   ]
  },
  {
   "cell_type": "code",
   "execution_count": 50,
   "metadata": {},
   "outputs": [],
   "source": [
    "df.loc[-1] = ['depot', driver_centr_x, driver_centr_y, 1]\n",
    "df.index = df.index + 1  # shifting index\n",
    "df = df.sort_index().reset_index(drop=True)"
   ]
  },
  {
   "cell_type": "code",
   "execution_count": 51,
   "metadata": {},
   "outputs": [
    {
     "name": "stdout",
     "output_type": "stream",
     "text": [
      "Set parameter TimeLimit to value 300\n",
      "Constraints loaded\n",
      "Gurobi Optimizer version 10.0.0 build v10.0.0rc2 (win64)\n",
      "\n",
      "CPU model: Intel(R) Core(TM) i7-6500U CPU @ 2.50GHz, instruction set [SSE2|AVX|AVX2]\n",
      "Thread count: 2 physical cores, 4 logical processors, using up to 4 threads\n",
      "\n",
      "Optimize a model with 1004002 rows, 1003002 columns and 6008000 nonzeros\n",
      "Model fingerprint: 0x2427bf5e\n",
      "Variable types: 0 continuous, 1003002 integer (1002001 binary)\n",
      "Coefficient statistics:\n",
      "  Matrix range     [1e+00, 1e+03]\n",
      "  Objective range  [1e+03, 9e+06]\n",
      "  Bounds range     [1e+00, 1e+03]\n",
      "  RHS range        [1e+00, 1e+03]\n",
      "Presolve removed 0 rows and 1002 columns (presolve time = 5s) ...\n",
      "Presolve removed 0 rows and 1002 columns (presolve time = 10s) ...\n",
      "Presolve removed 0 rows and 1002 columns (presolve time = 15s) ...\n",
      "Presolve removed 0 rows and 1002 columns (presolve time = 20s) ...\n",
      "Presolve removed 0 rows and 1002 columns (presolve time = 25s) ...\n",
      "Presolve removed 0 rows and 1002 columns\n",
      "Presolve time: 26.03s\n",
      "Presolved: 1004002 rows, 1002000 columns, 6006000 nonzeros\n",
      "Variable types: 0 continuous, 1002000 integer (1001000 binary)\n"
     ]
    }
   ],
   "source": [
    "n = len(df[['x', 'y']].values.tolist())\n",
    "L = n\n",
    "K = 1\n",
    "salesmen = 16\n",
    "\n",
    "def distance(points, i, j):\n",
    "    dx = abs(points[i][0] - points[j][0])\n",
    "    dy = abs(points[i][1] - points[j][1])\n",
    "    return dx+dy\n",
    "\n",
    "random.seed(1)\n",
    "points = df[['x', 'y']].values.tolist()\n",
    "\n",
    "\n",
    "m = grb.Model()\n",
    "m.setParam('TimeLimit', 5*60)\n",
    "\n",
    "# Create variables\n",
    "\n",
    "vars = {}\n",
    "\n",
    "for i in range(n):\n",
    "    for j in range(n):\n",
    "        vars[i, j] = m.addVar(obj=distance(points, i, j), vtype=grb.GRB.BINARY, name='e_'+str(i)+'_'+str(j))\n",
    "m.update()\n",
    "\n",
    "uVars = {}\n",
    "for i in range(n):\n",
    "    uVars[i] = m.addVar(lb=K, ub=L, vtype=grb.GRB.INTEGER, name='u_'+str(i))\n",
    "    vars[i, i].ub = 0\n",
    "m.update()\n",
    "\n",
    "m.addConstr(grb.quicksum(vars[0, i] for i in range(1, n)) == salesmen)\n",
    "m.update()\n",
    "\n",
    "m.addConstr(grb.quicksum(vars[i, 0] for i in range(1, n)) == salesmen)\n",
    "m.update()\n",
    "\n",
    "for j in range(1, n):\n",
    "    m.addConstr(grb.quicksum(vars[i, j] for i in range(n)) == 1)\n",
    "m.update()\n",
    "\n",
    "for i in range(1, n):\n",
    "    m.addConstr(grb.quicksum(vars[i, j] for j in range(n)) == 1)\n",
    "m.update()\n",
    "\n",
    "for i in range(1, n):\n",
    "    m.addConstr(uVars[i] + (L - 2)*vars[0, i] - vars[i, 0] <= (L - 1))\n",
    "m.update()\n",
    "\n",
    "for i in range(1, n):\n",
    "    m.addConstr(uVars[i] + vars[0, i] + (2 - K)*vars[i, 0] >= 2)\n",
    "m.update()\n",
    "\n",
    "for i in range(1, n):\n",
    "    m.addConstr(vars[0, i] + vars[i, 0] <= 1)\n",
    "m.update()\n",
    "\n",
    "for i in range(1, n):\n",
    "    for j in range(1, n):\n",
    "        if i != j:\n",
    "            m.addConstr(uVars[i] - uVars[j] + L*vars[i, j] + (L - 2)*vars[j, i] <= (L - 1))\n",
    "m.update()\n",
    "\n",
    "print('Constraints loaded')\n",
    "\n",
    "# m.write(\"mtsp.lp\")\n",
    "\n",
    "# m.update()\n",
    "\n",
    "totVars = dict(list(vars.items())+list(uVars.items()))\n",
    "m._vars = vars\n",
    "m._uvars = uVars\n",
    "\n",
    "m.optimize()\n",
    "\n",
    "solution = m.getAttr('x', vars)\n",
    "selected = [(i,j) for i in range(n) for j in range(n) if solution[i,j] > 0.5]\n",
    "\n",
    "uValues = m.getAttr('x', uVars)\n",
    "# print(\"U values: \", uValues)\n",
    "\n",
    "print('')\n",
    "# print('Optimal tour: %s' % str(selected))\n",
    "print(selected)\n",
    "print('Optimal cost:', m.objVal/16)\n",
    "print('')"
   ]
  },
  {
   "cell_type": "code",
   "execution_count": null,
   "metadata": {},
   "outputs": [],
   "source": [
    "route = [None]*16\n",
    "for i in range(16):\n",
    "    start = selected[i]\n",
    "    route[i] = [start[0]]\n",
    "    while start[1] != 0:\n",
    "        for s in selected[16:]:\n",
    "            if s[0] == start[1]:\n",
    "                route[i].append(s[0])\n",
    "                start = s\n",
    "    route[i].append(0)"
   ]
  },
  {
   "cell_type": "code",
   "execution_count": 24,
   "metadata": {},
   "outputs": [],
   "source": [
    "driver_input = drivers[drivers['driver_type']==1][['x','y']].values\n",
    "driver_output = drivers[drivers['driver_type']==2][['x','y']].values"
   ]
  },
  {
   "cell_type": "code",
   "execution_count": 25,
   "metadata": {},
   "outputs": [],
   "source": [
    "mat_dist_in = np.zeros((16,32))\n",
    "mat_dist_out= np.zeros((16,32))\n",
    "for d in range(16):\n",
    "    for r in range(16):\n",
    "        mat_dist_in[d][r] = minkowski(driver_input[d], df.values[route[r][1]][1:3], 1)\n",
    "        mat_dist_in[d][r + 16] = minkowski(driver_input[d], df.values[route[r][-2]][1:3], 1)\n",
    "\n",
    "        mat_dist_out[d][r] = minkowski(driver_output[d], df.values[route[r][1]][1:3], 1)\n",
    "        mat_dist_out[d][r + 16] = minkowski(driver_output[d], df.values[route[r][-2]][1:3], 1)"
   ]
  },
  {
   "cell_type": "code",
   "execution_count": 26,
   "metadata": {},
   "outputs": [],
   "source": [
    "for i in range(16):\n",
    "    pin = np.argmin(mat_dist_in[i])\n",
    "    if pin < 16:\n",
    "        #driver inici\n",
    "        route[pin][0] = i\n",
    "        mat_dist_in[:,pin] = np.Inf\n",
    "        mat_dist_in[:,pin+16] = np.Inf\n",
    "\n",
    "        #driver final\n",
    "        driv = np.argmin(mat_dist_out[:,pin + 16])\n",
    "        route[pin][-1] = driv\n",
    "        mat_dist_out[:,pin+16] = np.Inf\n",
    "        mat_dist_out[:,pin] = np.Inf\n",
    "        mat_dist_out[driv,:] = np.Inf\n",
    "    else:\n",
    "        #driver inici\n",
    "        route[pin - 16][-1] = i\n",
    "        mat_dist_in[:,pin] = np.Inf\n",
    "        mat_dist_in[:,pin-16] = np.Inf\n",
    "\n",
    "        #driver final\n",
    "        driv = np.argmin(mat_dist_out[:,pin - 16])\n",
    "        route[pin-16][0] = driv\n",
    "        mat_dist_out[:,pin-16] = np.Inf\n",
    "        mat_dist_out[:,pin] = np.Inf\n",
    "        mat_dist_out[driv,:] = np.Inf\n",
    "\n",
    "        route[pin-16].reverse()"
   ]
  },
  {
   "cell_type": "code",
   "execution_count": 35,
   "metadata": {},
   "outputs": [],
   "source": [
    "def parse_output(net_name, routes):\n",
    "    pins = df[df['driver_type'] != 1]\n",
    "    with open(net_name+'_optimizer.def', 'w') as f:\n",
    "        for route in routes:\n",
    "            f.writelines([net_name,'\\n'])\n",
    "            f.writelines(['  ( ', drivers['name_pin'].tolist()[route[0]], ' conn_in )\\n'])\n",
    "            f.writelines(['  ( ', pins['name_pin'].tolist()[route[1]-1], ' conn_out )\\n'])\n",
    "            f.write(';\\n')\n",
    "            for i in range (1,len(route)-2):\n",
    "                f.writelines([net_name,'\\n'])\n",
    "                f.writelines(['  ( ', pins['name_pin'].tolist()[route[i]-1], ' conn_in )\\n'])\n",
    "                f.writelines(['  ( ', pins['name_pin'].tolist()[route[i+1]-1], ' conn_out )\\n'])\n",
    "                f.write(';\\n')\n",
    "\n",
    "            f.writelines([net_name,'\\n'])\n",
    "            f.writelines(['  ( ', pins['name_pin'].tolist()[route[-2]-1], ' conn_in )\\n'])\n",
    "            f.writelines(['  ( ', drivers['name_pin'].tolist()[route[-1]+16], ' conn_out )\\n'])\n",
    "            f.write(';\\n')\n",
    "        f.close()"
   ]
  },
  {
   "cell_type": "code",
   "execution_count": 36,
   "metadata": {},
   "outputs": [],
   "source": [
    "parse_output('- TESTCASE 0', route)"
   ]
  },
  {
   "cell_type": "code",
   "execution_count": 113,
   "metadata": {},
   "outputs": [],
   "source": [
    "#df contains all the pins and the initial avg driver\n",
    "#drivers contains the drivers\n",
    "#dist_matrix calculated between avg driver and pins\n",
    "def calculate_metric(routes, df, drivers):\n",
    "    sum_length = []\n",
    "    for r in route:\n",
    "        l = []\n",
    "\n",
    "        for i in range(0,len(r)):\n",
    "            if i == 0:\n",
    "                driver_in = drivers[drivers['driver_type'] == 1].iloc[r[i]].values[1:3]\n",
    "                pin = df.loc[r[i+1]].values[1:3]\n",
    "                l.append(minkowski(driver_in, pin, 1))\n",
    "            elif i == len(r)-2:\n",
    "                driver_out = drivers[drivers['driver_type'] == 2].iloc[r[i+1]].values[1:3]\n",
    "                pin = df.loc[r[i]].values[1:3]\n",
    "                l.append(minkowski(driver_out, pin, 1))\n",
    "                break\n",
    "            else:\n",
    "                l.append(minkowski(df.loc[r[i]].values[1:3], df.loc[r[i+1]].values[1:3]))\n",
    "        sum_length.append(sum(l))\n",
    "\n",
    "    return sum(sum_length) / 16, np.std(sum_length), sum_length\n"
   ]
  },
  {
   "cell_type": "code",
   "execution_count": null,
   "metadata": {},
   "outputs": [],
   "source": [
    "calculate_metric(route, dist_matrix, df, drivers)"
   ]
  }
 ],
 "metadata": {
  "kernelspec": {
   "display_name": "Python 3.9.12",
   "language": "python",
   "name": "python3"
  },
  "language_info": {
   "codemirror_mode": {
    "name": "ipython",
    "version": 3
   },
   "file_extension": ".py",
   "mimetype": "text/x-python",
   "name": "python",
   "nbconvert_exporter": "python",
   "pygments_lexer": "ipython3",
   "version": "3.9.12"
  },
  "orig_nbformat": 4,
  "vscode": {
   "interpreter": {
    "hash": "f9aa8e702591a9a58c543e966482840cde45b2988a8200210e03af8c9c75224a"
   }
  }
 },
 "nbformat": 4,
 "nbformat_minor": 2
}
